{
 "cells": [
  {
   "cell_type": "markdown",
   "id": "17f0b3aa",
   "metadata": {},
   "source": [
    "SFARI neural is removed to comply with Researcher Distribution Agreement (eRDA). SFARI Award \\#614379 to J.H. and S.A. Data can be obtained by authorized researchers from base.sfari.org"
   ]
  },
  {
   "cell_type": "code",
   "execution_count": 1,
   "id": "1c952d3a",
   "metadata": {},
   "outputs": [],
   "source": [
    "import numpy as np"
   ]
  },
  {
   "cell_type": "code",
   "execution_count": 2,
   "id": "cbb052d2",
   "metadata": {},
   "outputs": [
    {
     "name": "stdout",
     "output_type": "stream",
     "text": [
      "['salient_vec_abide', 'background_vec_abide', 'vae_vec_abide', 'salient_vec_sfari', 'background_vec_sfari', 'vae_vec_sfari']\n"
     ]
    }
   ],
   "source": [
    "fn = '../Data/latent_vecs10.npz'\n",
    "arr = np.load(fn)\n",
    "print(list(arr.keys()))\n",
    "\n",
    "salient_vec_abide=arr['salient_vec_abide']\n",
    "background_vec_abide=arr['background_vec_abide']\n",
    "vae_vec_abide=arr['vae_vec_abide']\n",
    "salient_vec_sfari=arr['salient_vec_sfari']\n",
    "background_vec_sfari=arr['background_vec_sfari']\n",
    "vae_vec_sfari=arr['vae_vec_sfari']\n",
    "\n",
    "np.savez_compressed(fn, \n",
    "                    salient_vec_abide=salient_vec_abide,\n",
    "                    background_vec_abide=background_vec_abide,\n",
    "                    vae_vec_abide=vae_vec_abide,)"
   ]
  },
  {
   "cell_type": "code",
   "execution_count": 3,
   "id": "317aba0e",
   "metadata": {},
   "outputs": [
    {
     "name": "stdout",
     "output_type": "stream",
     "text": [
      "['salient_vec_abide', 'background_vec_abide', 'vae_vec_abide', 'salient_vec_sfari', 'background_vec_sfari', 'vae_vec_sfari']\n"
     ]
    }
   ],
   "source": [
    "fn = '../Data/latent_vecs100.npz'\n",
    "arr = np.load(fn)\n",
    "print(list(arr.keys()))\n",
    "\n",
    "salient_vec_abide=arr['salient_vec_abide']\n",
    "background_vec_abide=arr['background_vec_abide']\n",
    "vae_vec_abide=arr['vae_vec_abide']\n",
    "salient_vec_sfari=arr['salient_vec_sfari']\n",
    "background_vec_sfari=arr['background_vec_sfari']\n",
    "vae_vec_sfari=arr['vae_vec_sfari']\n",
    "\n",
    "np.savez_compressed(fn, \n",
    "                    salient_vec_abide=salient_vec_abide,\n",
    "                    background_vec_abide=background_vec_abide,\n",
    "                    vae_vec_abide=vae_vec_abide,)"
   ]
  },
  {
   "cell_type": "code",
   "execution_count": 4,
   "id": "78e51120",
   "metadata": {},
   "outputs": [],
   "source": [
    "rm -rf '../Data/sfari_legend_S121.csv' # SFARI data legend"
   ]
  },
  {
   "cell_type": "code",
   "execution_count": 5,
   "id": "bbeb3ec4",
   "metadata": {},
   "outputs": [],
   "source": [
    "rm -rf '../Data/SFARI-Anat-64iso-S121.npz' # T1w data"
   ]
  },
  {
   "cell_type": "code",
   "execution_count": null,
   "id": "d30f351b",
   "metadata": {},
   "outputs": [],
   "source": []
  }
 ],
 "metadata": {
  "kernelspec": {
   "display_name": "Python 3",
   "language": "python",
   "name": "python3"
  },
  "language_info": {
   "codemirror_mode": {
    "name": "ipython",
    "version": 3
   },
   "file_extension": ".py",
   "mimetype": "text/x-python",
   "name": "python",
   "nbconvert_exporter": "python",
   "pygments_lexer": "ipython3",
   "version": "3.8.5"
  }
 },
 "nbformat": 4,
 "nbformat_minor": 5
}
