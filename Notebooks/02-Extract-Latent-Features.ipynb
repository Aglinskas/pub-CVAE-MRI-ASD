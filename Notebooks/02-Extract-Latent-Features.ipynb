{
 "cells": [
  {
   "cell_type": "code",
   "execution_count": null,
   "metadata": {},
   "outputs": [],
   "source": [
    "import pickle\n",
    "\n",
    "import numpy as np\n",
    "import pandas as pd \n",
    "\n",
    "from importlib import reload\n",
    "\n",
    "import helper_funcs;reload(helper_funcs);from helper_funcs import *\n",
    "import make_models2;reload(make_models2);from make_models2 import *\n",
    "\n",
    "from functools import partial\n",
    "from sklearn.decomposition import PCA\n",
    "\n",
    "from matplotlib import pyplot as plt\n",
    "\n",
    "from datetime import datetime\n",
    "\n",
    "import shutil\n",
    "from functools import partial\n",
    "from tqdm import tqdm\n",
    "tqdm = partial(tqdm, position=0, leave=True)"
   ]
  },
  {
   "cell_type": "code",
   "execution_count": null,
   "metadata": {},
   "outputs": [],
   "source": [
    "dataFnOut = '../Data/ABIDE-Anat-64iso-S982.npz'\n",
    "dfFnOut = '../Data/ABIDE_legend_S982.csv'\n",
    "\n",
    "ABIDE_data = np.load(dataFnOut)['data']\n",
    "df = pd.read_csv(dfFnOut)\n",
    "\n",
    "patients = df['DxGroup'].values==1\n",
    "controls = df['DxGroup'].values==2\n",
    "abide_asd = ABIDE_data[patients,:,:,:]\n",
    "\n",
    "arr = np.load('../Data/SFARI-Anat-64iso-S121.npz')\n",
    "dfs = pd.read_csv('../Data/sfari_legend_S121.csv')\n",
    "\n",
    "SFARI_data = arr['data']\n",
    "SFARI_subs = arr['subs']\n",
    "\n",
    "sfari_subs_td = dfs['family_type'].values=='non-familial-control'\n",
    "sfari_subs_dupl = dfs['family_type'].values=='16p-duplication'\n",
    "sfari_subs_del = dfs['family_type'].values=='16p-deletion'"
   ]
  },
  {
   "cell_type": "code",
   "execution_count": null,
   "metadata": {},
   "outputs": [],
   "source": [
    "patients = df['DxGroup'].values==1\n",
    "controls = df['DxGroup'].values==2"
   ]
  },
  {
   "cell_type": "code",
   "execution_count": null,
   "metadata": {},
   "outputs": [],
   "source": [
    "# LOAD VAE\n",
    "latent_dim=32;batch_size=32;disentangle=False;gamma=100\n",
    "encoder, decoder, vae = get_MRI_VAE_3D(input_shape=(64, 64, 64, 1), latent_dim=latent_dim, batch_size=batch_size, disentangle=disentangle, gamma=gamma)\n",
    "\n",
    "encoder, decoder, vae = get_MRI_VAE_3D(input_shape=(64,64,64,1), \n",
    "                                            latent_dim=32, \n",
    "                                            batch_size = batch_size, \n",
    "                                            disentangle=True,\n",
    "                                            gamma=100,\n",
    "                                            kernel_size = 3,\n",
    "                                            filters = 48,\n",
    "                                            intermediate_dim = 128,\n",
    "                                            nlayers = 2,\n",
    "                                            bias=True)\n",
    "\n",
    "fn = '../tf_weights/CVAE_weights/VAE_weights'\n",
    "vae.load_weights(fn)"
   ]
  },
  {
   "cell_type": "code",
   "execution_count": null,
   "metadata": {},
   "outputs": [],
   "source": [
    "%%time \n",
    "# LOAD CVAE\n",
    "latent_dim = 16;batch_size = 32;beta = 1;gamma = 100;disentangle = True\n",
    "cvae, z_encoder, s_encoder, cvae_decoder = get_MRI_CVAE_3D(latent_dim=latent_dim,beta=beta, disentangle=disentangle, gamma=gamma, bias=True, batch_size = batch_size)\n",
    "loss = list()    \n",
    "\n",
    "fn = '../tf_weights/CVAE_weights/CVAE_weights'\n",
    "cvae.load_weights(fn)"
   ]
  },
  {
   "cell_type": "code",
   "execution_count": null,
   "metadata": {},
   "outputs": [],
   "source": [
    "n_samples = 10\n",
    "\n",
    "salient_vec_abide = np.array([s_encoder.predict(ABIDE_data[:,:,:,:])[2] for _ in range(n_samples)])\n",
    "background_vec_abide = np.array([z_encoder.predict(ABIDE_data[:,:,:,:])[2] for _ in range(n_samples)])\n",
    "vae_vec_abide = np.array([encoder.predict(ABIDE_data[:,:,:,:])[2] for _ in range(n_samples)])\n",
    "\n",
    "salient_vec_sfari = np.array([s_encoder.predict(SFARI_data[:,:,:,:])[2] for _ in range(n_samples)])\n",
    "background_vec_sfari = np.array([z_encoder.predict(SFARI_data[:,:,:,:])[2] for _ in range(n_samples)])\n",
    "vae_vec_sfari = np.array([encoder.predict(SFARI_data[:,:,:,:])[2] for _ in range(n_samples)])\n",
    "\n",
    "fn = '../Data/latent_vecs10.npz'\n",
    "np.savez_compressed(fn, \n",
    "                    salient_vec_abide=salient_vec_abide,\n",
    "                    background_vec_abide=background_vec_abide,\n",
    "                    vae_vec_abide=vae_vec_abide,\n",
    "                   salient_vec_sfari=salient_vec_sfari,\n",
    "                   background_vec_sfari=background_vec_sfari,\n",
    "                   vae_vec_sfari=vae_vec_sfari)"
   ]
  },
  {
   "cell_type": "code",
   "execution_count": null,
   "metadata": {},
   "outputs": [],
   "source": [
    "n_samples = 100\n",
    "\n",
    "salient_vec_abide = np.array([s_encoder.predict(ABIDE_data[:,:,:,:])[2] for _ in range(n_samples)])\n",
    "background_vec_abide = np.array([z_encoder.predict(ABIDE_data[:,:,:,:])[2] for _ in range(n_samples)])\n",
    "vae_vec_abide = np.array([encoder.predict(ABIDE_data[:,:,:,:])[2] for _ in range(n_samples)])\n",
    "\n",
    "salient_vec_sfari = np.array([s_encoder.predict(SFARI_data[:,:,:,:])[2] for _ in range(n_samples)])\n",
    "background_vec_sfari = np.array([z_encoder.predict(SFARI_data[:,:,:,:])[2] for _ in range(n_samples)])\n",
    "vae_vec_sfari = np.array([encoder.predict(SFARI_data[:,:,:,:])[2] for _ in range(n_samples)])\n",
    "\n",
    "fn = '../Data/latent_vecs100.npz'\n",
    "np.savez_compressed(fn, \n",
    "                    salient_vec_abide=salient_vec_abide,\n",
    "                    background_vec_abide=background_vec_abide,\n",
    "                    vae_vec_abide=vae_vec_abide,\n",
    "                   salient_vec_sfari=salient_vec_sfari,\n",
    "                   background_vec_sfari=background_vec_sfari,\n",
    "                   vae_vec_sfari=vae_vec_sfari)"
   ]
  },
  {
   "cell_type": "code",
   "execution_count": null,
   "metadata": {},
   "outputs": [],
   "source": []
  },
  {
   "cell_type": "code",
   "execution_count": null,
   "metadata": {},
   "outputs": [],
   "source": []
  },
  {
   "cell_type": "code",
   "execution_count": null,
   "metadata": {},
   "outputs": [],
   "source": []
  },
  {
   "cell_type": "code",
   "execution_count": null,
   "metadata": {},
   "outputs": [],
   "source": []
  },
  {
   "cell_type": "code",
   "execution_count": null,
   "metadata": {},
   "outputs": [],
   "source": []
  },
  {
   "cell_type": "code",
   "execution_count": null,
   "metadata": {},
   "outputs": [],
   "source": []
  }
 ],
 "metadata": {
  "kernelspec": {
   "display_name": "Python 3",
   "language": "python",
   "name": "python3"
  },
  "language_info": {
   "codemirror_mode": {
    "name": "ipython",
    "version": 3
   },
   "file_extension": ".py",
   "mimetype": "text/x-python",
   "name": "python",
   "nbconvert_exporter": "python",
   "pygments_lexer": "ipython3",
   "version": "3.8.5"
  }
 },
 "nbformat": 4,
 "nbformat_minor": 4
}
